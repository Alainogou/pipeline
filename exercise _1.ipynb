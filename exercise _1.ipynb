{
 "cells": [
  {
   "cell_type": "code",
   "execution_count": 33,
   "id": "4e54fa89-9be8-4637-951a-3292da61fe22",
   "metadata": {},
   "outputs": [
    {
     "name": "stdout",
     "output_type": "stream",
     "text": [
      "Statistics from SimpleImputer: [ 4. 13.  6.]\n",
      "Mean using np.nanmean: [ 4. 13.  6.]\n"
     ]
    }
   ],
   "source": [
    "import numpy as np\n",
    "from sklearn.impute import SimpleImputer\n",
    "\n",
    "\n",
    "train_data = [[7, 6, 5],\n",
    "              [4, np.nan, 5],\n",
    "              [1, 20, 8]]\n",
    "\n",
    "\n",
    "\n",
    "# Create the SimpleImputer\n",
    "imputer = SimpleImputer(strategy='mean')\n",
    "\n",
    "# Fit the imputer #on the training data\n",
    "imputer.fit(train_data)\n",
    "\n",
    "# Print the statistics_\n",
    "print(\"Statistics from SimpleImputer:\", imputer.statistics_)\n",
    "\n",
    "# Calculate the mean using np.nanmean\n",
    "nanmean_values = np.nanmean(train_data, axis=0)\n",
    "print(\"Mean using np.nanmean:\", nanmean_values)"
   ]
  },
  {
   "cell_type": "code",
   "execution_count": 34,
   "id": "e80b12ad-8aa5-46bc-b4db-be568438dbd4",
   "metadata": {},
   "outputs": [
    {
     "name": "stdout",
     "output_type": "stream",
     "text": [
      "[[ 7.  6.  5.]\n",
      " [ 4. 13.  5.]\n",
      " [ 1. 20.  8.]]\n"
     ]
    }
   ],
   "source": [
    "#2\n",
    "train_imput = imputer.transform(train_data)\n",
    "print(train_imput)"
   ]
  },
  {
   "cell_type": "code",
   "execution_count": 35,
   "id": "bf6d314f-d3bd-4e97-9ddc-f2e3c621ad18",
   "metadata": {},
   "outputs": [
    {
     "name": "stdout",
     "output_type": "stream",
     "text": [
      "[[ 4.  1.  2.]\n",
      " [ 7. 13.  9.]\n",
      " [ 4.  2.  4.]]\n"
     ]
    }
   ],
   "source": [
    "#3\n",
    "test_data = [[np.nan, 1, 2],\n",
    "             [7, np.nan, 9],\n",
    "             [np.nan, 2, 4]]\n",
    "\n",
    "\n",
    "test_data_imputed = imputer.transform(test_data)\n",
    "\n",
    "print(test_data_imputed)"
   ]
  }
 ],
 "metadata": {
  "kernelspec": {
   "display_name": "Python 3 (ipykernel)",
   "language": "python",
   "name": "python3"
  },
  "language_info": {
   "codemirror_mode": {
    "name": "ipython",
    "version": 3
   },
   "file_extension": ".py",
   "mimetype": "text/x-python",
   "name": "python",
   "nbconvert_exporter": "python",
   "pygments_lexer": "ipython3",
   "version": "3.8.20"
  }
 },
 "nbformat": 4,
 "nbformat_minor": 5
}
