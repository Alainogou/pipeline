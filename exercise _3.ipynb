{
 "cells": [
  {
   "cell_type": "code",
   "execution_count": 4,
   "id": "4e54fa89-9be8-4637-951a-3292da61fe22",
   "metadata": {},
   "outputs": [
    {
     "name": "stdout",
     "output_type": "stream",
     "text": [
      "Training DataFrame:\n",
      "|    |   ('C++',) |   ('Java',) |   ('Python',) |\n",
      "|---:|-----------:|------------:|--------------:|\n",
      "|  0 |          0 |           0 |             1 |\n",
      "|  1 |          0 |           1 |             0 |\n",
      "|  2 |          0 |           1 |             0 |\n",
      "|  3 |          1 |           0 |             0 |\n",
      "\n",
      "Test DataFrame:\n",
      "|    |   ('C++',) |   ('Java',) |   ('Python',) |\n",
      "|---:|-----------:|------------:|--------------:|\n",
      "|  0 |          0 |           0 |             1 |\n",
      "|  1 |          0 |           1 |             0 |\n",
      "|  2 |          0 |           0 |             0 |\n",
      "|  3 |          1 |           0 |             0 |\n"
     ]
    }
   ],
   "source": [
    "#Exercise 3: One hot Encoder\n",
    "import pandas as pd\n",
    "from sklearn.preprocessing import OneHotEncoder\n",
    "\n",
    "#1\n",
    "X_train = [['Python'], ['Java'], ['Java'], ['C++']]\n",
    "\n",
    "\n",
    "encoder = OneHotEncoder(handle_unknown='ignore', dtype=np.int8)\n",
    "encoder.fit(X_train)\n",
    "\n",
    "\n",
    "X_train_transformed = encoder.transform(X_train).toarray()\n",
    "\n",
    "categories = encoder.categories_[0]  # Get the categories\n",
    "column=[f'(\\'{col}\\',)' for col in categories]\n",
    "df_train = pd.DataFrame(X_train_transformed, columns= column)\n",
    "\n",
    "print(\"Training DataFrame:\")\n",
    "print(df_train.to_markdown())\n",
    "#\n",
    "X_test = [['Python'], ['Java'], ['C'], ['C++']]\n",
    "\n",
    "X_test_transformed = encoder.transform(X_test).toarray()\n",
    "\n",
    "df_test = pd.DataFrame(X_test_transformed, columns=column)\n",
    "\n",
    "\n",
    "print(\"\\nTest DataFrame:\")\n",
    "print(df_test.to_markdown())"
   ]
  }
 ],
 "metadata": {
  "kernelspec": {
   "display_name": "Python 3 (ipykernel)",
   "language": "python",
   "name": "python3"
  },
  "language_info": {
   "codemirror_mode": {
    "name": "ipython",
    "version": 3
   },
   "file_extension": ".py",
   "mimetype": "text/x-python",
   "name": "python",
   "nbconvert_exporter": "python",
   "pygments_lexer": "ipython3",
   "version": "3.8.20"
  }
 },
 "nbformat": 4,
 "nbformat_minor": 5
}
