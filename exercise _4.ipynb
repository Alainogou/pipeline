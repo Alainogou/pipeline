{
 "cells": [
  {
   "cell_type": "code",
   "execution_count": 1,
   "id": "4e54fa89-9be8-4637-951a-3292da61fe22",
   "metadata": {},
   "outputs": [
    {
     "name": "stdout",
     "output_type": "stream",
     "text": [
      "Training Data Encoded:\n",
      "[[2.]\n",
      " [0.]\n",
      " [1.]]\n",
      "Categories [array(['bad', 'neutral', 'good'], dtype=object)]\n",
      "\n",
      "Test Data Encoded:\n",
      "[[2.]\n",
      " [2.]\n",
      " [0.]]\n"
     ]
    }
   ],
   "source": [
    "#Exercise 4: Ordinal Encoder\n",
    "from sklearn.preprocessing import OrdinalEncoder\n",
    "\n",
    "#1\n",
    "X_train = [['good'], ['bad'], ['neutral']]\n",
    "encoder = OrdinalEncoder(categories=[['bad', 'neutral', 'good']])\n",
    "encoder.fit(X_train)\n",
    "\n",
    "X_train_encoded =encoder.transform(X_train)\n",
    "print(\"Training Data Encoded:\")\n",
    "print(X_train_encoded)\n",
    "\n",
    "print(\"Categories\", encoder.categories_)\n",
    "\n",
    "#2\n",
    "X_test = [['good'], ['good'], ['bad']]\n",
    "X_test_encoded = encoder.transform(X_test)\n",
    "print(\"\\nTest Data Encoded:\")\n",
    "print(X_test_encoded)"
   ]
  }
 ],
 "metadata": {
  "kernelspec": {
   "display_name": "Python 3 (ipykernel)",
   "language": "python",
   "name": "python3"
  },
  "language_info": {
   "codemirror_mode": {
    "name": "ipython",
    "version": 3
   },
   "file_extension": ".py",
   "mimetype": "text/x-python",
   "name": "python",
   "nbconvert_exporter": "python",
   "pygments_lexer": "ipython3",
   "version": "3.8.20"
  }
 },
 "nbformat": 4,
 "nbformat_minor": 5
}
