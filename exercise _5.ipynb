{
 "cells": [
  {
   "cell_type": "code",
   "execution_count": 23,
   "id": "4e54fa89-9be8-4637-951a-3292da61fe22",
   "metadata": {},
   "outputs": [],
   "source": [
    "#Exercise 5\n",
    "import pandas as pd\n",
    "from sklearn.model_selection import train_test_split\n",
    "from sklearn.preprocessing import OneHotEncoder\n",
    "from sklearn.compose import make_column_transformer\n",
    "\n",
    "from sklearn.preprocessing import OrdinalEncoder\n",
    "#1\n",
    "data=pd.read_csv('./data/breast-cancer.txt', sep=',', header=None)\n",
    "\n",
    "data.dropna(inplace=True)\n",
    "data.drop(9, axis=1, inplace=True)\n",
    "data.columns=['age', 'menopause', 'tumor-size', 'inv-nodes', 'node-caps', 'deg-malig', 'breast', 'breast-quad', 'irradiat']\n"
   ]
  },
  {
   "cell_type": "code",
   "execution_count": 24,
   "id": "c8ac33d2-a8cc-4545-b640-68331017dba2",
   "metadata": {},
   "outputs": [
    {
     "name": "stdout",
     "output_type": "stream",
     "text": [
      "age 6\n",
      "menopause 3\n",
      "tumor-size 11\n",
      "inv-nodes 6\n",
      "node-caps 2\n",
      "deg-malig 3\n",
      "breast 2\n",
      "breast-quad 5\n",
      "irradiat 2\n"
     ]
    }
   ],
   "source": [
    "#1\n",
    "X_train, X_test = train_test_split(data, test_size=0.2, random_state=43)\n",
    "for col in data.columns:\n",
    "    print(col, len(data[col].unique()))"
   ]
  },
  {
   "cell_type": "code",
   "execution_count": 25,
   "id": "bafe7ecd-a2be-4ff0-aace-1ce20c3f490b",
   "metadata": {},
   "outputs": [
    {
     "name": "stdout",
     "output_type": "stream",
     "text": [
      "[[1. 0. 1. 0. 0. 1. 0. 0. 0. 1. 0.]\n",
      " [1. 0. 1. 0. 0. 1. 0. 0. 0. 1. 0.]\n",
      " [0. 1. 1. 0. 0. 1. 0. 0. 0. 0. 1.]\n",
      " [0. 1. 1. 0. 0. 1. 0. 0. 0. 0. 1.]\n",
      " [1. 0. 1. 0. 0. 0. 1. 0. 0. 1. 0.]\n",
      " [1. 0. 1. 0. 0. 0. 0. 1. 0. 1. 0.]\n",
      " [1. 0. 0. 1. 0. 0. 0. 0. 1. 1. 0.]\n",
      " [1. 0. 0. 1. 0. 1. 0. 0. 0. 1. 0.]\n",
      " [1. 0. 1. 0. 0. 0. 0. 1. 0. 0. 1.]\n",
      " [1. 0. 0. 1. 0. 1. 0. 0. 0. 1. 0.]]\n",
      "feature \n",
      " ['node-caps_no' 'node-caps_yes' 'breast_left' 'breast_right'\n",
      " 'breast-quad_central' 'breast-quad_left_low' 'breast-quad_left_up'\n",
      " 'breast-quad_right_low' 'breast-quad_right_up' 'irradiat_no'\n",
      " 'irradiat_yes']\n"
     ]
    }
   ],
   "source": [
    "#2\n",
    "#['node-caps' , 'breast', 'breast-quad', 'irradiat']\n",
    "\n",
    "encoder = OneHotEncoder(handle_unknown='ignore')\n",
    "encoder.fit(X_train[['node-caps' , 'breast', 'breast-quad', 'irradiat']])\n",
    "\n",
    "X_test_transformed = encoder.transform(X_test[['node-caps' , 'breast', 'breast-quad', 'irradiat']]).toarray()\n",
    "\n",
    "categories = encoder.categories_\n",
    "print(X_test_transformed[ :10, :])\n",
    "print(\"feature \\n\", encoder.get_feature_names_out(['node-caps' , 'breast', 'breast-quad', 'irradiat']))\n"
   ]
  },
  {
   "cell_type": "code",
   "execution_count": 26,
   "id": "56ff2b26-d06d-4771-8469-bdabdd77bdf1",
   "metadata": {},
   "outputs": [
    {
     "name": "stdout",
     "output_type": "stream",
     "text": [
      "[[2. 5. 2. 0. 1.]\n",
      " [2. 5. 2. 0. 0.]\n",
      " [2. 5. 4. 5. 2.]\n",
      " [1. 4. 5. 1. 1.]\n",
      " [2. 5. 5. 0. 2.]\n",
      " [1. 2. 1. 0. 1.]\n",
      " [1. 2. 8. 0. 1.]\n",
      " [2. 5. 2. 0. 0.]\n",
      " [2. 5. 5. 0. 2.]\n",
      " [1. 2. 3. 0. 0.]]\n"
     ]
    }
   ],
   "source": [
    "#3\n",
    "\n",
    "ord_col = [\n",
    "    ['lt40', 'premeno', 'ge40'],  # menopause\n",
    "    ['10-19', '20-29', '30-39', '40-49', '50-59', '60-69','70-79','80-89', '90-99'],\n",
    "    ['0-4','5-9', '10-14', '15-19', '20-24', '25-29', '30-34', '35-39', '40-44', '45-49',  '50-54', '55-59'],  # tumor-size\n",
    "    ['0-2', '3-5', '6-8', '9-11', '12-14', '15-17', '18-20', '21-23', '24-26', '27-29', '30-32', '33-35','36-39'],  # inv-nodes\n",
    "    [1, 2, 3]  # deg-malig\n",
    "]\n",
    "\n",
    "\n",
    "ordinal_vars = [\"menopause\", \"age\", \"tumor-size\", \"inv-nodes\", \"deg-malig\"]\n",
    "oe = OrdinalEncoder(categories=ord_col)\n",
    "oe.fit(X_train[ordinal_vars])\n",
    "\n",
    "# # Transform the test set\n",
    "X_test_oe = oe.transform(X_test[ordinal_vars])\n",
    "print(X_test_oe[:10])"
   ]
  },
  {
   "cell_type": "code",
   "execution_count": 31,
   "id": "a55ed4bd-5334-4894-97ca-9e38b116f6f9",
   "metadata": {},
   "outputs": [
    {
     "name": "stdout",
     "output_type": "stream",
     "text": [
      "[[1. 0. 1. 0. 0. 1. 0. 0. 0. 1. 0. 2. 5. 2. 0. 1.]\n",
      " [1. 0. 1. 0. 0. 1. 0. 0. 0. 1. 0. 2. 5. 2. 0. 0.]]\n"
     ]
    }
   ],
   "source": [
    "#4\n",
    "# Define the transformers\n",
    "column_transformer = make_column_transformer(\n",
    "    (OneHotEncoder(handle_unknown='ignore'), ['node-caps' , 'breast', 'breast-quad', 'irradiat']),\n",
    "    (OrdinalEncoder(categories=ord_col), ['menopause', 'age', 'tumor-size', 'inv-nodes', 'deg-malig']),\n",
    ")\n",
    "\n",
    "# Fit and transform the training data\n",
    "X_train_transformed = column_transformer.fit(X_train)\n",
    "\n",
    "# Transform the test data\n",
    "X_test_transformed = column_transformer.transform(X_test)\n",
    "\n",
    "# Display the transformed data\n",
    "print(X_test_transformed[:2])"
   ]
  }
 ],
 "metadata": {
  "kernelspec": {
   "display_name": "Python 3 (ipykernel)",
   "language": "python",
   "name": "python3"
  },
  "language_info": {
   "codemirror_mode": {
    "name": "ipython",
    "version": 3
   },
   "file_extension": ".py",
   "mimetype": "text/x-python",
   "name": "python",
   "nbconvert_exporter": "python",
   "pygments_lexer": "ipython3",
   "version": "3.8.20"
  }
 },
 "nbformat": 4,
 "nbformat_minor": 5
}
