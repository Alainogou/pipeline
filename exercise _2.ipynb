{
 "cells": [
  {
   "cell_type": "code",
   "execution_count": 4,
   "id": "4e54fa89-9be8-4637-951a-3292da61fe22",
   "metadata": {},
   "outputs": [
    {
     "name": "stdout",
     "output_type": "stream",
     "text": [
      "Moyenne (après mise à l'échelle): [0. 0. 0.]\n",
      "Écart type (après mise à l'échelle): [1. 1. 1.]\n",
      "X_train_scaled:\n",
      " [[ 0.         -1.22474487  1.33630621]\n",
      " [ 1.22474487  0.         -0.26726124]\n",
      " [-1.22474487  1.22474487 -1.06904497]]\n"
     ]
    }
   ],
   "source": [
    "#Exercise 2\n",
    "import numpy as np\n",
    "from sklearn.preprocessing import StandardScaler\n",
    "\n",
    "X_train = np.array([[ 1., -1.,  2.],\n",
    "                     [ 2.,  0.,  0.],\n",
    "                     [ 0.,  1., -1.]])\n",
    "\n",
    "scaler = StandardScaler()\n",
    "X_train_scaled = scaler.fit_transform(X_train)\n",
    "\n",
    "mean_scaled = np.mean(X_train_scaled, axis=0)\n",
    "std_scaled = np.std(X_train_scaled, axis=0)\n",
    "\n",
    "\n",
    "print(\"Moyenne (après mise à l'échelle):\", mean_scaled)\n",
    "print(\"Écart type (après mise à l'échelle):\", std_scaled)\n",
    "print(\"X_train_scaled:\\n\", X_train_scaled)\n"
   ]
  },
  {
   "cell_type": "code",
   "execution_count": 5,
   "id": "0e558df5-1c69-4e77-b945-07002a37c381",
   "metadata": {},
   "outputs": [
    {
     "name": "stdout",
     "output_type": "stream",
     "text": [
      "Scaled Test Data:\n",
      "[[ 1.22474487 -1.22474487  0.53452248]\n",
      " [ 2.44948974  3.67423461 -1.06904497]\n",
      " [ 0.          1.22474487  0.53452248]]\n"
     ]
    }
   ],
   "source": [
    "#2\n",
    "X_test = np.array([[ 2., -1.,  1.],\n",
    "                     [ 3.,  3.,  -1.],\n",
    "                     [ 1.,  1., 1.]])\n",
    "\n",
    "X_test_scaled = scaler.transform(X_test)\n",
    "\n",
    "print(\"Scaled Test Data:\")\n",
    "print(X_test_scaled)"
   ]
  }
 ],
 "metadata": {
  "kernelspec": {
   "display_name": "Python 3 (ipykernel)",
   "language": "python",
   "name": "python3"
  },
  "language_info": {
   "codemirror_mode": {
    "name": "ipython",
    "version": 3
   },
   "file_extension": ".py",
   "mimetype": "text/x-python",
   "name": "python",
   "nbconvert_exporter": "python",
   "pygments_lexer": "ipython3",
   "version": "3.8.20"
  }
 },
 "nbformat": 4,
 "nbformat_minor": 5
}
