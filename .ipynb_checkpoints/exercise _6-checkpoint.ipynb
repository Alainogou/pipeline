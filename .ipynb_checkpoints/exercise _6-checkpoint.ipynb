{
 "cells": [
  {
   "cell_type": "code",
   "execution_count": 4,
   "id": "4e54fa89-9be8-4637-951a-3292da61fe22",
   "metadata": {},
   "outputs": [
    {
     "name": "stdout",
     "output_type": "stream",
     "text": [
      "[0 0 2 1 2 0 2 1 1 1 0 1 2 0 1 1 0 0 2 2 0 0 0 2 2 2 0 1 0 0 1 0 1 1 2 2 2\n",
      " 2 1 1 1 2 1 2 0 1 1 1 1 2]\n",
      "sklearn_preds\n",
      " [0 0 2 1 2 0 2 1 1 1 0 1 2 0 1 1 0 0 2 2 0 0 0 2 2 2 0 1 0 0 1 0 1 1 2 2 2\n",
      " 2 1 1 1 2 1 2 0 1 1 1 1 2]\n"
     ]
    }
   ],
   "source": [
    "import numpy as np\n",
    "import pandas as pd\n",
    "from sklearn.model_selection import train_test_split\n",
    "from sklearn.preprocessing import StandardScaler\n",
    "from sklearn.datasets import load_iris\n",
    "from sklearn.impute import SimpleImputer\n",
    "from sklearn.linear_model import LogisticRegression\n",
    "\n",
    "iris = load_iris()\n",
    "X, y = iris['data'], iris['target']\n",
    "\n",
    "#add missing values\n",
    "X[[1,20,50,100,135], 0] = np.nan\n",
    "X[[2,5,88,135], 1] = np.nan\n",
    "X[[4,15], 2] = np.nan\n",
    "X[[40,135], 3] = np.nan\n",
    "\n",
    "X_train, X_test, y_train, y_test= train_test_split(X, y, test_size=0.33, random_state=43)\n",
    "\n",
    "#Imputer (median) #Remplacer les valeurs manquantes par mean\n",
    "imputer = SimpleImputer(strategy='mean')\n",
    "imputer.fit(X_train)\n",
    "X_train= imputer.transform(X_train)\n",
    "\n",
    "\n",
    "#Standard Scaler (Mettre à l'echelle afin que les données soient sur une même echelle)\n",
    "scale=StandardScaler()\n",
    "scale.fit_transform(X_train)\n",
    "\n",
    "#LogisticRegression\n",
    "\n",
    "def train(X_train, y_train):\n",
    "       clf = LogisticRegression()\n",
    "       clf1 = LogisticRegression()\n",
    "       clf2 = LogisticRegression()\n",
    "\n",
    "       clf.fit(X_train, y_train == 0)\n",
    "       clf1.fit(X_train, y_train == 1)\n",
    "       clf2.fit(X_train, y_train == 2)\n",
    "\n",
    "       return clf, clf1, clf2\n",
    "\n",
    "#2\n",
    "\n",
    "def predict_one_vs_all(X, clf0, clf1, clf2):\n",
    "\n",
    "    prob0 = clf0.predict_proba(X)[:, 1]\n",
    "    prob1 = clf1.predict_proba(X)[:, 1]\n",
    "    prob2 = clf2.predict_proba(X)[:, 1]\n",
    "\n",
    "    probs = np.vstack((prob0, prob1, prob2)).T\n",
    "    classes = np.argmax(probs, axis=1)\n",
    "\n",
    "    return classes\n",
    "\n",
    "\n",
    "\n",
    "clf0, clf1, clf2 = train(X_train, y_train)\n",
    "custom_preds = predict_one_vs_all(imputer.transform(X_test), clf0, clf1, clf2)\n",
    "print(custom_preds)\n",
    "\n",
    "\n",
    "clf_all = LogisticRegression(multi_class='ovr', solver='lbfgs', max_iter=1000)\n",
    "clf_all.fit(X_train, y_train)\n",
    "sklearn_preds = clf_all.predict(imputer.transform(X_test))\n",
    "print(\"sklearn_preds\\n\", sklearn_preds)\n",
    "\n"
   ]
  }
 ],
 "metadata": {
  "kernelspec": {
   "display_name": "Python 3 (ipykernel)",
   "language": "python",
   "name": "python3"
  },
  "language_info": {
   "codemirror_mode": {
    "name": "ipython",
    "version": 3
   },
   "file_extension": ".py",
   "mimetype": "text/x-python",
   "name": "python",
   "nbconvert_exporter": "python",
   "pygments_lexer": "ipython3",
   "version": "3.8.20"
  }
 },
 "nbformat": 4,
 "nbformat_minor": 5
}
